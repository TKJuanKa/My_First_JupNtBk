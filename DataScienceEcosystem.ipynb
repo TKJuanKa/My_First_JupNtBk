{
 "cells": [
  {
   "cell_type": "markdown",
   "id": "73c2cd5a-b5fa-4fab-8cf2-f6f590d9a259",
   "metadata": {},
   "source": [
    "<h1>Data Science Tools and Ecosystem</h1>"
   ]
  },
  {
   "cell_type": "markdown",
   "id": "0d2cb638-5a0d-49eb-a878-eb166c3b63da",
   "metadata": {},
   "source": [
    "##### In this notebook , Data Science Tools and Ecosystem are sumarized"
   ]
  },
  {
   "cell_type": "markdown",
   "id": "6def8443-5539-417f-bdc2-8e3d97ad6ef5",
   "metadata": {},
   "source": [
    "##### Some of the popular languages that Data Science use are:\n",
    "1. R\n",
    "2. Python\n",
    "3. C++\n",
    "4. JavaScript"
   ]
  },
  {
   "cell_type": "markdown",
   "id": "2af23edf-dc45-47c4-9dbf-57f16905b92c",
   "metadata": {},
   "source": [
    "##### Some of the popular languages that Data Scientists use are:\n",
    "1. ggplot\n",
    "2. Matplotlib\n",
    "3. Numpy"
   ]
  },
  {
   "cell_type": "markdown",
   "id": "9871ef5e-0db2-4dbd-98ee-aad34057b314",
   "metadata": {},
   "source": [
    "| Data Science Tools |\n",
    "| ------------------ |\n",
    "| RStudio |\n",
    "| Scala |\n",
    "| Jupyter Notebooks |"
   ]
  },
  {
   "cell_type": "markdown",
   "id": "c62c527f-7277-42e3-bae0-21fe18ab434d",
   "metadata": {},
   "source": [
    "<h3>Below are a few examples of evaluating arithmetic expressions in Python</h3>"
   ]
  },
  {
   "cell_type": "markdown",
   "id": "83001d93-01a4-4839-8e30-279caf90fccc",
   "metadata": {},
   "source": [
    "* This a simple arithmetic expression to mutiply then add integers"
   ]
  },
  {
   "cell_type": "code",
   "execution_count": 15,
   "id": "006f3bd9-c52d-406e-8eaa-0d2ff01d5a7c",
   "metadata": {},
   "outputs": [
    {
     "name": "stdout",
     "output_type": "stream",
     "text": [
      "(3*4)+5\n",
      "17\n"
     ]
    }
   ],
   "source": [
    "print(\"(3*4)+5\")\n",
    "a = (3*4)+5\n",
    "print(a)"
   ]
  },
  {
   "cell_type": "markdown",
   "id": "8d363d98-7171-427f-a71a-bff22cfaa28c",
   "metadata": {},
   "source": [
    "* This will convert 200 minutes to hours by diving by 60"
   ]
  },
  {
   "cell_type": "code",
   "execution_count": 16,
   "id": "ef454546-ddec-47e5-912d-3f46fda7f41e",
   "metadata": {},
   "outputs": [
    {
     "name": "stdout",
     "output_type": "stream",
     "text": [
      "(200 min * 1 hrs)/60 min\n",
      "3.3333333333333335\n"
     ]
    }
   ],
   "source": [
    "print(\"(200 min * 1 hrs)/60 min\")\n",
    "b = (200*1)/60\n",
    "print(b)"
   ]
  },
  {
   "cell_type": "markdown",
   "id": "fe9f21f7-a04c-482a-b908-170d3c7eb6bf",
   "metadata": {},
   "source": [
    "**Objectives:**\n",
    "- Languages for Data Science\n",
    "- Libraries for Data Science\n",
    "- Data Science Tools\n",
    "- Arithmetics in Jupyter Notebooks"
   ]
  },
  {
   "cell_type": "markdown",
   "id": "bec8269e-5fef-44b5-a575-b420669d2e4a",
   "metadata": {},
   "source": [
    "<h2>Author</h2>\n",
    "Juan Camilo Tovar Cabrera"
   ]
  },
  {
   "cell_type": "code",
   "execution_count": null,
   "id": "795dab08-230b-4841-bd1c-f30ab1e7f60b",
   "metadata": {},
   "outputs": [],
   "source": []
  }
 ],
 "metadata": {
  "kernelspec": {
   "display_name": "Python 3 (ipykernel)",
   "language": "python",
   "name": "python3"
  },
  "language_info": {
   "codemirror_mode": {
    "name": "ipython",
    "version": 3
   },
   "file_extension": ".py",
   "mimetype": "text/x-python",
   "name": "python",
   "nbconvert_exporter": "python",
   "pygments_lexer": "ipython3",
   "version": "3.11.7"
  }
 },
 "nbformat": 4,
 "nbformat_minor": 5
}
